{
 "cells": [
  {
   "cell_type": "code",
   "execution_count": 7,
   "metadata": {},
   "outputs": [],
   "source": [
    "\"\"\"\n",
    "MTH-4150 Project 3\n",
    "\n",
    "@author Will Mason Moses\n",
    "@author Josh Lewis\n",
    "@author Caitlin Chapman\n",
    "@date 2021-10-28\n",
    "\"\"\"\n",
    "import numpy as np\n",
    "from matplotlib import image, pyplot as plt\n",
    "from math import floor, ceil\n",
    "\n",
    "\n",
    "def backsub(U, b):\n",
    "    \"\"\"\n",
    "    backsub(U,b)\n",
    "    Solve the upper-triangular linear system with matrix U and right-hand side\n",
    "    vector b.\n",
    "    \"\"\"\n",
    "    n = len(b)\n",
    "    x = np.zeros(n)\n",
    "    for i in range(n - 1, -1, -1):\n",
    "        s = U[i, i + 1:] @ x[i + 1:]\n",
    "        x[i] = (b[i] - s) / U[i, i]\n",
    "    return x\n",
    "\n",
    "\n",
    "def lsqrfact(A, b):\n",
    "    \"\"\"\n",
    "    lsqrfact(A,b)\n",
    "    Solve a linear least squares problem by QR factorization. Returns the\n",
    "    minimizer of ||b-Ax||.\n",
    "    \"\"\"\n",
    "\n",
    "    Q, R = np.linalg.qr(A, mode='reduced')\n",
    "    c = Q.T @ b\n",
    "    x = backsub(R, c)\n",
    "\n",
    "    return x\n",
    "\n",
    "\n",
    "def loadface(imagedir, subject, pose):\n",
    "    \"\"\"\n",
    "    Load in the face for the given subject number (integer) and the given\n",
    "    pose (integer). Directory of images is passed in as imagedir.\n",
    "    \"\"\"\n",
    "    filename = f\"{imagedir}/s{subject}/{pose}.pgm\"\n",
    "    image_vectors = image.imread(filename).astype(np.double)  # read, convert to double precision\n",
    "    return image_vectors.flatten()\n",
    "\n",
    "\n",
    "def showfaces(image_vectors):\n",
    "    \"\"\"\n",
    "    Accepts a matrix of image vectors (assumed to be from 112 x 92 images, and\n",
    "    with the image vectors as columns) and plots them in a grid.\n",
    "    Will plot at most 16 faces.\n",
    "    \"\"\"\n",
    "    n = image_vectors.shape[1]\n",
    "    if n > 16:\n",
    "        raise ValueError('A maximum of 16 faces please!')\n",
    "    rows = ceil(n / 4)\n",
    "    cols = 4\n",
    "\n",
    "    fig = plt.figure(figsize=(10, 10))\n",
    "    for j in range(n):\n",
    "        pic = image_vectors[:, j].reshape(112, 92)\n",
    "        ax = fig.add_subplot(rows, cols, j + 1)\n",
    "        ax.axis('off')\n",
    "        ax.imshow(pic, cmap='gray')"
   ]
  },
  {
   "cell_type": "code",
   "execution_count": 8,
   "metadata": {
    "collapsed": false,
    "jupyter": {
     "outputs_hidden": false
    },
    "pycharm": {
     "name": "#%%\n"
    }
   },
   "outputs": [],
   "source": [
    "imagedir = 'attfaces-python'\n",
    "all_faces = np.zeros([10304, 400])\n",
    "all_face_id = np.zeros([400])\n",
    "counter = 0\n",
    "for subj in range(40):\n",
    "    all_face_id[counter] = subj\n",
    "    for pose in range(10):\n",
    "        all_faces[:, counter] = loadface(imagedir, subj + 1, pose + 1)\n",
    "        counter += 1\n",
    "\n",
    "face_id = all_face_id[:150]\n",
    "faces = np.zeros([10304, 150])\n",
    "for subj in range(25):\n",
    "    for pose in range(6):\n",
    "        faces[:,(subj * 6) + pose] = all_faces[:,subj * 10 + pose]\n",
    "\n",
    "Q_faces, R_faces = np.linalg.qr(faces, mode='reduced')\n"
   ]
  },
  {
   "cell_type": "code",
   "execution_count": 45,
   "metadata": {
    "collapsed": false,
    "jupyter": {
     "outputs_hidden": false
    },
    "pycharm": {
     "name": "#%%\n"
    }
   },
   "outputs": [
    {
     "data": {
      "text/plain": [
       "(2, 0.999999999999976)"
      ]
     },
     "execution_count": 45,
     "metadata": {},
     "output_type": "execute_result"
    }
   ],
   "source": [
    "def identiface(Q, R, subj, z):\n",
    "    \"\"\"\n",
    "    Calculates which face is most similar to the given image.\n",
    "    :param Q: Q factor of face matrix\n",
    "    :param R: R factor of face matrix\n",
    "    :param subj: vector of subject numbers who's image appears in the corresponding column of the face matrix\n",
    "    :param z: the image to find the similarity to\n",
    "    :return: the most likely subject, and the confidence level in that similarity\n",
    "    \"\"\"\n",
    "    qtz = Q.T @ z\n",
    "    similarity = backsub(R, qtz)\n",
    "    cum_sim = np.zeros([25])\n",
    "    for subject in range(25):\n",
    "        cum_sim[subject] = sum(similarity[(subject * 6):(subject * 6) + 6])\n",
    "    # divides summed coefficients of chosen subject (max(cum_sim)) by \n",
    "    # the sum of all coefficients (abs value). If the coefficient of chosen\n",
    "    # subject is 1, then confidence is 1/1. Abs value is taken so that all\n",
    "    # contributions of other subjects reduce confidence. This effectively\n",
    "    # accounts for how much the solution deviates from a full contribution by \n",
    "    # one subject\n",
    "    confidence = max(cum_sim) / sum(abs(cum_sim))\n",
    "    \n",
    "    return np.argmax(cum_sim) + 1, confidence\n",
    "\n",
    "\n",
    "identiface(Q_faces, R_faces, face_id, all_faces[:, 11:12])"
   ]
  },
  {
   "cell_type": "code",
   "execution_count": 44,
   "metadata": {
    "collapsed": false,
    "jupyter": {
     "outputs_hidden": false
    },
    "pycharm": {
     "name": "#%%\n"
    }
   },
   "outputs": [
    {
     "name": "stdout",
     "output_type": "stream",
     "text": [
      "220 30\n"
     ]
    }
   ],
   "source": [
    "def performanceAnalyzer():\n",
    "    accuracy = np.zeros([250,2])\n",
    "    hits = 0\n",
    "    misses = 0\n",
    "    for face in range(250):\n",
    "        accuracy[face] = identiface(Q_faces, R_faces, face_id, all_faces[:,face])\n",
    "        # showfaces(all_faces[:,face * 10:face * 10 + 1])\n",
    "    for result in range(accuracy.shape[0]):\n",
    "        #print(accuracy[result,:])\n",
    "        if accuracy[result,0] == -(-result // 10):\n",
    "            hits += 1\n",
    "        else:\n",
    "            misses += 1\n",
    "    print(hits, misses)\n",
    "\n",
    "performanceAnalyzer()\n",
    "# print(identiface(Q_faces, R_faces,face_id, all_faces[:, 5:6]))\n",
    "# showfaces(all_faces[:, :10])"
   ]
  },
  {
   "cell_type": "code",
   "execution_count": null,
   "metadata": {
    "collapsed": false,
    "jupyter": {
     "outputs_hidden": false
    },
    "pycharm": {
     "name": "#%%\n"
    }
   },
   "outputs": [],
   "source": []
  }
 ],
 "metadata": {
  "kernelspec": {
   "display_name": "Python 3 (Spyder)",
   "language": "python3",
   "name": "python3"
  },
  "language_info": {
   "codemirror_mode": {
    "name": "ipython",
    "version": 3
   },
   "file_extension": ".py",
   "mimetype": "text/x-python",
   "name": "python",
   "nbconvert_exporter": "python",
   "pygments_lexer": "ipython3",
   "version": "3.8.8"
  }
 },
 "nbformat": 4,
 "nbformat_minor": 4
}
