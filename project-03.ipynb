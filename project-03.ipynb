{
 "cells": [
  {
   "cell_type": "code",
   "execution_count": 26,
   "metadata": {
    "collapsed": true
   },
   "outputs": [],
   "source": [
    "import numpy as np\n",
    "from matplotlib import image, pyplot as plt\n",
    "from math import floor, ceil\n",
    "\n",
    "def backsub(U,b):\n",
    "  \"\"\"\n",
    "  backsub(U,b)\n",
    "  Solve the upper-triangular linear system with matrix U and right-hand side\n",
    "  vector b.\n",
    "  \"\"\"\n",
    "  n = len(b)\n",
    "  x = np.zeros(n)\n",
    "  for i in range(n-1,-1,-1):\n",
    "    s = U[i,i+1:] @ x[i+1:]\n",
    "    x[i] = ( b[i] - s ) / U[i,i]\n",
    "  return x\n",
    "\n",
    "def lsqrfact(A,b):\n",
    "  \"\"\"\n",
    "  lsqrfact(A,b)\n",
    "  Solve a linear least squares problem by QR factorization. Returns the\n",
    "  minimizer of ||b-Ax||.\n",
    "  \"\"\"\n",
    "\n",
    "  Q,R = np.linalg.qr(A, mode = 'reduced')\n",
    "  c = Q.T@b\n",
    "  x = backsub(R,c)\n",
    "\n",
    "  return x\n",
    "\n",
    "\n",
    "def loadface(imagedir,subject,pose):\n",
    "  \"\"\"\n",
    "  Load in the face for the given subject number (integer) and the given\n",
    "  pose (integer). Directory of images is passed in as imagedir.\n",
    "  \"\"\"\n",
    "  filename =  f\"{imagedir}/s{subject}/{pose}.pgm\"\n",
    "  image_vectors = image.imread(filename).astype(np.double)  # read, convert to double precision\n",
    "  return image_vectors.flatten()\n",
    "\n",
    "def showfaces(image_vectors):\n",
    "  \"\"\"\n",
    "  Accepts a matrix of image vectors (assumed to be from 112 x 92 images, and\n",
    "  with the image vectors as columns) and plots them in a grid.\n",
    "  Will plot at most 16 faces.\n",
    "  \"\"\"\n",
    "  n = image_vectors.shape[1]\n",
    "  if n > 16:\n",
    "    raise ValueError('A maximum of 16 faces please!')\n",
    "  rows = ceil(n/4)\n",
    "  cols = 4\n",
    "\n",
    "  fig = plt.figure(figsize=(10,10))\n",
    "  for j in range(n):\n",
    "    pic = image_vectors[:,j].reshape(112,92)\n",
    "    ax = fig.add_subplot(rows,cols,j+1)\n",
    "    ax.axis('off')\n",
    "    ax.imshow(pic, cmap='gray')"
   ]
  },
  {
   "cell_type": "code",
   "execution_count": 38,
   "outputs": [],
   "source": [
    "imagedir = 'attfaces-python'\n",
    "faces = np.zeros([10304, 150])\n",
    "face_id = np.zeros([150])\n",
    "counter = 0\n",
    "# B = np.zeros([10304,150])\n",
    "for subj in range(25):\n",
    "  face_id[counter] = subj\n",
    "  for pose in range(6):\n",
    "    faces[:,counter] = loadface(imagedir,subj+1,pose+1)\n",
    "    counter += 1\n",
    "\n",
    "# print(loadface('attfaces-python', 1, 1).reshape(10304, 1))\n",
    "# faces[:,1].shape\n",
    "# showfaces(faces[:,:1])\n",
    "Q_faces, R_faces = np.linalg.qr(faces, mode = 'reduced')\n"
   ],
   "metadata": {
    "collapsed": false,
    "pycharm": {
     "name": "#%%\n"
    }
   }
  },
  {
   "cell_type": "code",
   "execution_count": 42,
   "outputs": [
    {
     "name": "stdout",
     "output_type": "stream",
     "text": [
      "[ 1.00000000e+00  6.61676853e-16 -4.10445451e-16 -5.38711393e-16\n",
      "  6.44824455e-16  8.18367377e-16 -2.07933630e-15 -1.72947086e-16\n",
      " -2.20312163e-16 -6.76130484e-16  1.20324134e-16  1.20871305e-15\n",
      " -1.07115947e-15 -2.55409679e-16  4.62520114e-17  3.24628753e-16\n",
      " -1.32782926e-16  5.76928131e-17  3.53006141e-16  7.68457210e-16\n",
      " -2.24258861e-16 -2.99837577e-16 -2.98434956e-16 -8.74338845e-17\n",
      " -2.04957716e-16]\n",
      "[-2.19205184e-15  1.00000000e+00  4.19494452e-17 -5.63529833e-16\n",
      "  1.91718703e-15  5.61321213e-16  3.29146935e-16 -6.12905438e-16\n",
      "  3.77552668e-16  6.29779392e-16 -6.18967046e-17  4.21240072e-16\n",
      " -5.96356126e-16 -1.77759082e-16  8.94151189e-16 -1.52313758e-15\n",
      "  9.92656144e-16  1.00653428e-15  3.77175341e-16  3.59161277e-17\n",
      " -1.19280573e-15  1.58463752e-15 -1.34363464e-15  2.92768557e-16\n",
      "  2.12484766e-15 -4.05366473e-16  4.34400473e-16 -6.19114946e-16\n",
      " -8.89942263e-16 -7.48703684e-16  4.26931311e-16  6.18350760e-16\n",
      "  5.15959689e-16 -8.86961508e-16  1.44087125e-16 -5.73333338e-16\n",
      " -1.71368592e-15  4.81160248e-16 -1.06465724e-15  3.02824513e-16\n",
      " -8.49778999e-17 -8.06634173e-17  1.45809670e-16 -1.05617633e-16\n",
      " -8.23877769e-16 -4.17730669e-16  1.02846932e-15  1.00443680e-16\n",
      "  1.21817777e-15 -6.12004497e-16  2.48061541e-16 -1.15550518e-15\n",
      "  8.09582025e-17  7.39333020e-16  2.41829048e-17 -3.19993283e-16\n",
      " -1.71235890e-17 -1.28083635e-16 -2.35112881e-16  3.37340904e-16\n",
      " -4.12841807e-16  2.54261475e-16  3.68607454e-16 -7.02752468e-16\n",
      "  6.13049481e-16 -2.04148269e-17  4.46596166e-16  8.12274972e-16\n",
      "  3.15010275e-16 -1.30716176e-16 -2.34452182e-16 -5.15267395e-17\n",
      " -1.15130120e-15 -1.25079786e-16 -4.36319666e-16  2.06991718e-16\n",
      "  4.34549470e-16  3.59563947e-18 -3.85514582e-16 -8.83020898e-16\n",
      "  5.56398978e-16  1.80773877e-16  2.75952945e-16 -3.09465858e-16\n",
      " -1.67791737e-16  3.87003124e-16 -3.06712524e-16  1.27483962e-16\n",
      "  6.26918597e-18  1.78788262e-17  1.20555820e-16 -1.10471069e-17\n",
      "  2.21997432e-16  4.61188201e-16 -4.68065593e-16 -1.04122353e-16\n",
      " -1.18451530e-16  3.80078485e-16 -4.16860418e-16  9.10448976e-17\n",
      " -6.85943604e-17  1.95033774e-16 -2.99631596e-16  1.37087892e-16\n",
      "  8.91891942e-17  2.14866396e-16 -8.38190739e-17  7.92719911e-18\n",
      "  3.13057711e-16 -1.53099379e-16  6.35523501e-17  3.41653984e-16\n",
      " -2.12158525e-16 -2.81352781e-16  8.64414236e-16 -3.43711212e-16\n",
      "  5.33353772e-16  1.01113429e-16 -3.86713015e-16  1.80005727e-17\n",
      "  6.06691242e-16 -4.12040015e-16 -6.48032943e-17 -6.43833780e-16\n",
      "  2.89726987e-16  4.12103887e-16 -7.33346684e-16 -2.51710608e-17\n",
      "  2.58550505e-16  3.91417249e-16 -1.91287586e-16  1.13732300e-17\n",
      "  4.29308380e-16 -9.88520890e-16  1.80498484e-17  6.02025242e-16\n",
      " -3.59297536e-16 -5.62121790e-16 -1.04361487e-16 -6.85838898e-16\n",
      "  3.61518325e-16  3.55993809e-16 -1.47456336e-17  3.73721494e-16\n",
      " -7.17993706e-17 -1.60165583e-16  3.40615726e-16 -3.98564718e-16\n",
      "  8.49562292e-17  1.80459260e-16]\n",
      "Bang!\n"
     ]
    }
   ],
   "source": [
    "def identiface(Q, R, subj, z):\n",
    "  # similarity = np.zeros([150])\n",
    "  qtz = Q.T@z\n",
    "  similarity = backsub(R, qtz)\n",
    "  confidence = np.zeros([25])\n",
    "  for subject in range(25):\n",
    "    confidence[subject] = sum(similarity[(subject * 6):(subject * 6) + 5])\n",
    "  print(confidence)\n",
    "  print(similarity)\n",
    "\n",
    "  print(\"Bang!\")\n",
    "\n",
    "identiface(Q_faces, R_faces, face_id, faces[:,1:2])"
   ],
   "metadata": {
    "collapsed": false,
    "pycharm": {
     "name": "#%%\n"
    }
   }
  }
 ],
 "metadata": {
  "kernelspec": {
   "display_name": "Python 3",
   "language": "python",
   "name": "python3"
  },
  "language_info": {
   "codemirror_mode": {
    "name": "ipython",
    "version": 2
   },
   "file_extension": ".py",
   "mimetype": "text/x-python",
   "name": "python",
   "nbconvert_exporter": "python",
   "pygments_lexer": "ipython2",
   "version": "2.7.6"
  }
 },
 "nbformat": 4,
 "nbformat_minor": 0
}