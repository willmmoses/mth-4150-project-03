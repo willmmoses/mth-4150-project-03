{
 "cells": [
  {
   "cell_type": "code",
   "execution_count": null,
   "metadata": {
    "collapsed": true
   },
   "outputs": [],
   "source": [
    "import numpy as np\n",
    "from matplotlib import image, pyplot as plt\n",
    "from math import floor, ceil\n",
    "\n",
    "def loadface(imagedir,subject,pose):\n",
    "  \"\"\"\n",
    "  Load in the face for the given subject number (integer) and the given\n",
    "  pose (integer). Directory of images is passed in as imagedir.\n",
    "  \"\"\"\n",
    "  filename =  f\"{imagedir}/s{subject}/{pose}.pgm\"\n",
    "  X = image.imread(filename).astype(np.double);  # read, convert to double precision\n",
    "  return X.flatten()\n",
    "\n",
    "def showfaces(X):\n",
    "  \"\"\"\n",
    "  Accepts a matrix of image vectors (assumed to be from 112 x 92 images, and\n",
    "  with the image vectors as columns) and plots them in a grid.\n",
    "  Will plot at most 16 faces.\n",
    "  \"\"\"\n",
    "  n = X.shape[1]\n",
    "  if n > 16:\n",
    "    raise ValueError('A maximum of 16 faces please!')\n",
    "  rows = ceil(n/4);\n",
    "  cols = 4;\n",
    "\n",
    "  fig = plt.figure(figsize=(10,10))\n",
    "  for j in range(n):\n",
    "    pic = X[:,j].reshape(112,92)\n",
    "    ax = fig.add_subplot(rows,cols,j+1)\n",
    "    ax.axis('off')\n",
    "    ax.imshow(pic, cmap='gray')"
   ]
  },
  {
   "cell_type": "code",
   "execution_count": null,
   "outputs": [],
   "source": [],
   "metadata": {
    "collapsed": false,
    "pycharm": {
     "name": "#%%\n"
    }
   }
  }
 ],
 "metadata": {
  "kernelspec": {
   "display_name": "Python 3",
   "language": "python",
   "name": "python3"
  },
  "language_info": {
   "codemirror_mode": {
    "name": "ipython",
    "version": 2
   },
   "file_extension": ".py",
   "mimetype": "text/x-python",
   "name": "python",
   "nbconvert_exporter": "python",
   "pygments_lexer": "ipython2",
   "version": "2.7.6"
  }
 },
 "nbformat": 4,
 "nbformat_minor": 0
}