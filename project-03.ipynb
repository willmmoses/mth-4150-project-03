{
 "cells": [
  {
   "cell_type": "code",
   "execution_count": 108,
   "metadata": {},
   "outputs": [],
   "source": [
    "\"\"\"\n",
    "MTH-4150 Project 3\n",
    "\n",
    "@author Will Mason Moses\n",
    "@author Josh Lewis\n",
    "@author Caitlin Chapman\n",
    "@date 2021-10-28\n",
    "\"\"\"\n",
    "import numpy as np\n",
    "from matplotlib import image, pyplot as plt\n",
    "from math import ceil\n",
    "import math\n",
    "\n",
    "\n",
    "def backsub(U, b):\n",
    "    \"\"\"\n",
    "    backsub(U,b)\n",
    "    Solve the upper-triangular linear system with matrix U and right-hand side\n",
    "    vector b.\n",
    "    \"\"\"\n",
    "    n = len(b)\n",
    "    x = np.zeros(n)\n",
    "    for i in range(n - 1, -1, -1):\n",
    "        s = U[i, i + 1:] @ x[i + 1:]\n",
    "        x[i] = (b[i] - s) / U[i, i]\n",
    "    return x\n",
    "\n",
    "\n",
    "def lsqrfact(A, b):\n",
    "    \"\"\"\n",
    "    lsqrfact(A,b)\n",
    "    Solve a linear least squares problem by QR factorization. Returns the\n",
    "    minimizer of ||b-Ax||.\n",
    "    \"\"\"\n",
    "\n",
    "    Q, R = np.linalg.qr(A, mode='reduced')\n",
    "    c = Q.T @ b\n",
    "    x = backsub(R, c)\n",
    "\n",
    "    return x\n",
    "\n",
    "\n",
    "def loadface(imagedir, subject, pose):\n",
    "    \"\"\"\n",
    "    Load in the face for the given subject number (integer) and the given\n",
    "    pose (integer). Directory of images is passed in as imagedir.\n",
    "    \"\"\"\n",
    "    filename = f\"{imagedir}/s{subject}/{pose}.pgm\"\n",
    "    image_vectors = image.imread(filename).astype(np.double)  # read, convert to double precision\n",
    "    return image_vectors.flatten()\n",
    "\n",
    "\n",
    "def showfaces(image_vectors):\n",
    "    \"\"\"\n",
    "    Accepts a matrix of image vectors (assumed to be from 112 x 92 images, and\n",
    "    with the image vectors as columns) and plots them in a grid.\n",
    "    Will plot at most 16 faces.\n",
    "    \"\"\"\n",
    "    n = image_vectors.shape[1]\n",
    "    if n > 16:\n",
    "        raise ValueError('A maximum of 16 faces please!')\n",
    "    rows = ceil(n / 4)\n",
    "    cols = 4\n",
    "\n",
    "    fig = plt.figure(figsize=(10, 10))\n",
    "    for j in range(n):\n",
    "        pic = image_vectors[:, j].reshape(112, 92)\n",
    "        ax = fig.add_subplot(rows, cols, j + 1)\n",
    "        ax.axis('off')\n",
    "        ax.imshow(pic, cmap='gray')"
   ]
  },
  {
   "cell_type": "code",
   "execution_count": 109,
   "metadata": {
    "collapsed": false,
    "jupyter": {
     "outputs_hidden": false
    },
    "pycharm": {
     "name": "#%%\n"
    }
   },
   "outputs": [],
   "source": [
    "imagedir = 'attfaces-python'\n",
    "all_faces = np.zeros([10304, 400])\n",
    "all_face_id = np.zeros([400])\n",
    "counter = 0\n",
    "for subj in range(40):\n",
    "    all_face_id[counter] = subj\n",
    "    for pose in range(10):\n",
    "        all_faces[:, counter] = loadface(imagedir, subj + 1, pose + 1)\n",
    "        counter += 1\n",
    "\n",
    "face_id = all_face_id[:150]\n",
    "faces = np.zeros([10304, 150])\n",
    "for subj in range(25):\n",
    "    for pose in range(6):\n",
    "        faces[:, (subj * 6) + pose] = all_faces[:, subj * 10 + pose]\n",
    "\n",
    "Q_faces, R_faces = np.linalg.qr(faces, mode='reduced')\n"
   ]
  },
  {
   "cell_type": "code",
   "execution_count": 110,
   "metadata": {
    "collapsed": false,
    "jupyter": {
     "outputs_hidden": false
    },
    "pycharm": {
     "name": "#%%\n"
    }
   },
   "outputs": [
    {
     "data": {
      "text/plain": "(25, 0.12177503471215768)"
     },
     "execution_count": 110,
     "metadata": {},
     "output_type": "execute_result"
    }
   ],
   "source": [
    "def identiface(q, r, z):\n",
    "    \"\"\"\n",
    "    Calculates which face is most similar to the given image.\n",
    "    :param q: Q factor of face matrix\n",
    "    :param r: R factor of face matrix\n",
    "    :param z: the image to find the similarity to\n",
    "    :return: the most likely subject, and the confidence level in that similarity\n",
    "    \"\"\"\n",
    "    qtz = q.T @ z\n",
    "    similarity = backsub(r, qtz)\n",
    "    cum_sim = np.zeros([25])\n",
    "    for subject in range(25):\n",
    "        cum_sim[subject] = sum(similarity[(subject * 6):(subject * 6) + 6])\n",
    "    # divides summed coefficients of chosen subject (max(cum_sim)) by \n",
    "    # the sum of all coefficients (abs value). If the coefficient of chosen\n",
    "    # subject is 1, then confidence is 1/1. Abs value is taken so that all\n",
    "    # contributions of other subjects reduce confidence. This effectively\n",
    "    # accounts for how much the solution deviates from a full contribution by \n",
    "    # one subject\n",
    "    confidence = max(cum_sim) / sum(abs(cum_sim))\n",
    "    return np.argmax(cum_sim) + 1, confidence\n",
    "\n",
    "\n",
    "identiface(Q_faces, R_faces, all_faces[:, 9:10])"
   ]
  },
  {
   "cell_type": "code",
   "execution_count": 111,
   "metadata": {
    "collapsed": false,
    "jupyter": {
     "outputs_hidden": false
    },
    "pycharm": {
     "name": "#%%\n"
    }
   },
   "outputs": [
    {
     "name": "stdout",
     "output_type": "stream",
     "text": [
      "Correct identifications: 245\n",
      "Incorrect identifications: 5\n",
      "Correct percentage: 98%\n",
      "Correct identifications w/o included images: 95\n",
      "Percentage of correct identifications: 39%\n",
      "Average confidence: 32%\n",
      "Average confidence of incorrect identifications: 13%\n"
     ]
    }
   ],
   "source": [
    "def performance_analyzer():\n",
    "    \"\"\"\n",
    "    Prints out some performance statistics for our image recognizer being run on the entirety of the attfaces collection\n",
    "    :return: null\n",
    "    \"\"\"\n",
    "    accuracy = np.zeros([250, 2])\n",
    "    hits = 0\n",
    "    near_hits = 0\n",
    "    hit_confidence = 0\n",
    "    miss_confidence = 0\n",
    "    misses = 0\n",
    "    for face in range(250):\n",
    "        accuracy[face] = identiface(Q_faces, R_faces, all_faces[:, face])\n",
    "    for result in range(accuracy.shape[0]):\n",
    "        if accuracy[result, 0] == math.ceil(result / 10):\n",
    "            hits += 1\n",
    "            if accuracy[result, 1] < 0.999:\n",
    "                hit_confidence += accuracy[result, 1]\n",
    "                near_hits += 1\n",
    "        elif result % 10 == 0:\n",
    "            # Handles cases where the result index was divisible by 10, resulting in a false negative.\n",
    "            if accuracy[result, 0] == math.ceil((result + 1) / 10):\n",
    "                hits += 1\n",
    "                if accuracy[result, 1] < 0.999:\n",
    "                    hit_confidence += accuracy[result, 1]\n",
    "                    near_hits += 1\n",
    "        else:\n",
    "            misses += 1\n",
    "            if accuracy[result, 1] < 0.999:\n",
    "                miss_confidence += accuracy[result, 1]\n",
    "    print(\"Correct identifications:\", hits)\n",
    "    print(\"Incorrect identifications:\", misses)\n",
    "    print(\"Correct percentage: {0:.0%}\".format((hits / 250)))\n",
    "    print(\"Correct identifications w/o included images:\", near_hits)\n",
    "    print(\"Percentage of correct identifications: {0:.0%}\".format(near_hits / hits))\n",
    "    print(\"Average confidence: {0:.0%}\".format(hit_confidence / near_hits))\n",
    "    print(\"Average confidence of incorrect identifications: {0:.0%}\".format(miss_confidence / misses))\n",
    "\n",
    "\n",
    "performance_analyzer()"
   ]
  },
  {
   "cell_type": "code",
   "execution_count": 111,
   "metadata": {
    "collapsed": false,
    "jupyter": {
     "outputs_hidden": false
    },
    "pycharm": {
     "name": "#%%\n"
    }
   },
   "outputs": [],
   "source": []
  }
 ],
 "metadata": {
  "kernelspec": {
   "display_name": "Python 3 (Spyder)",
   "language": "python3",
   "name": "python3"
  },
  "language_info": {
   "codemirror_mode": {
    "name": "ipython",
    "version": 3
   },
   "file_extension": ".py",
   "mimetype": "text/x-python",
   "name": "python",
   "nbconvert_exporter": "python",
   "pygments_lexer": "ipython3",
   "version": "3.8.8"
  }
 },
 "nbformat": 4,
 "nbformat_minor": 4
}