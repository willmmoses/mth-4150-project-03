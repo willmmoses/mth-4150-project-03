{
 "cells": [
  {
   "cell_type": "code",
   "execution_count": 12,
   "metadata": {
    "collapsed": true
   },
   "outputs": [],
   "source": [
    "import numpy as np\n",
    "from matplotlib import image, pyplot as plt\n",
    "from math import floor, ceil\n",
    "\n",
    "def loadface(imagedir,subject,pose):\n",
    "  \"\"\"\n",
    "  Load in the face for the given subject number (integer) and the given\n",
    "  pose (integer). Directory of images is passed in as imagedir.\n",
    "  \"\"\"\n",
    "  filename =  f\"{imagedir}/s{subject}/{pose}.pgm\"\n",
    "  image_vectors = image.imread(filename).astype(np.double)  # read, convert to double precision\n",
    "  return image_vectors.flatten()\n",
    "\n",
    "def showfaces(image_vectors):\n",
    "  \"\"\"\n",
    "  Accepts a matrix of image vectors (assumed to be from 112 x 92 images, and\n",
    "  with the image vectors as columns) and plots them in a grid.\n",
    "  Will plot at most 16 faces.\n",
    "  \"\"\"\n",
    "  n = image_vectors.shape[1]\n",
    "  if n > 16:\n",
    "    raise ValueError('A maximum of 16 faces please!')\n",
    "  rows = ceil(n/4)\n",
    "  cols = 4\n",
    "\n",
    "  fig = plt.figure(figsize=(10,10))\n",
    "  for j in range(n):\n",
    "    pic = image_vectors[:,j].reshape(112,92)\n",
    "    ax = fig.add_subplot(rows,cols,j+1)\n",
    "    ax.axis('off')\n",
    "    ax.imshow(pic, cmap='gray')"
   ]
  },
  {
   "cell_type": "code",
   "execution_count": 38,
   "outputs": [
    {
     "data": {
      "text/plain": "<Figure size 720x720 with 1 Axes>",
      "image/png": "[encoded data removed]"
     },
     "metadata": {
      "needs_background": "light"
     },
     "output_type": "display_data"
    }
   ],
   "source": [
    "faces = np.zeros([10304, 150])\n",
    "counter = 0\n",
    "for i in range(1, 26):\n",
    "    for p in range (1, 7):\n",
    "        faces[:,counter] = loadface('attfaces-python', i, p).reshape(10304, 1)\n",
    "        counter += counter\n",
    "\n",
    "# print(loadface('attfaces-python', 1, 1).reshape(10304, 1))\n",
    "# faces.shape\n",
    "showfaces(faces[:,2])\n"
   ],
   "metadata": {
    "collapsed": false,
    "pycharm": {
     "name": "#%%\n"
    }
   }
  }
 ],
 "metadata": {
  "kernelspec": {
   "display_name": "Python 3",
   "language": "python",
   "name": "python3"
  },
  "language_info": {
   "codemirror_mode": {
    "name": "ipython",
    "version": 2
   },
   "file_extension": ".py",
   "mimetype": "text/x-python",
   "name": "python",
   "nbconvert_exporter": "python",
   "pygments_lexer": "ipython2",
   "version": "2.7.6"
  }
 },
 "nbformat": 4,
 "nbformat_minor": 0
}