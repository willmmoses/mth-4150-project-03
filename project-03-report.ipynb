{
 "cells": [
  {
   "cell_type": "markdown",
   "metadata": {
    "pycharm": {
     "name": "#%% md\n"
    }
   },
   "source": [
    "# Project 3\n",
    "## 2021-10-28\n",
    "### Josh Lewis, Caitlin Chapman, Will Mason Moses\n",
    "\n",
    "\n",
    "**Introduction**\n",
    "\n",
    "One facial recognition technique with traditional algorithms is to compare an image's similarity to pre-existing database of faces. This can be done with a traditional algorithm where we represent the problem as an overdetermined linear system. \n",
    "$$\\textbf{Ax}=\\textbf{z}$$\n",
    "\n",
    "Where $\\textbf{A}$ is a matrix containing the images in the pre-existing database, $\\textbf{z}$ is the facial image that we want to identify, and $\\textbf{x}$ is a vector of weights representing the composition of $\\textbf{z}$ from the images in $\\textbf{x}$. The database images are represented as the columns of $\\textbf{A}$, which are $nx1$ vectors where $n$ is the number of pixels in the images. $\\textbf{z}$ is thought of as a linear combination of $\\textbf{A}$, with coefficients given by the solution vector. A match can be made to the face in the database that contributes the most to construction of $\\textbf{z}$ (i.e. it has the greatest coefficient).\n",
    "\n",
    "**Facial Recognition Algorithm**"
   ]
  },
  {
   "cell_type": "code",
   "execution_count": null,
   "metadata": {},
   "outputs": [],
   "source": []
  }
 ],
 "metadata": {
  "kernelspec": {
   "display_name": "Python 3 (Spyder)",
   "language": "python3",
   "name": "python3"
  },
  "language_info": {
   "codemirror_mode": {
    "name": "ipython",
    "version": 3
   },
   "file_extension": ".py",
   "mimetype": "text/x-python",
   "name": "python",
   "nbconvert_exporter": "python",
   "pygments_lexer": "ipython3",
   "version": "3.8.8"
  }
 },
 "nbformat": 4,
 "nbformat_minor": 4
}
