{
 "cells": [
  {
   "cell_type": "markdown",
   "metadata": {
    "pycharm": {
     "name": "#%% md\n"
    }
   },
   "source": [
    "# Project 3\n",
    "## 2021-10-28\n",
    "### Josh Lewis, Caitlin Chapman, Will Mason Moses\n",
    "\n",
    "\n",
    "**I. Introduction**\n",
    "\n",
    "One facial recognition technique with traditional algorithms is to compare an image's similarity to a pre-existing database of faces. This can be done with a traditional algorithm where we represent the problem as an overdetermined linear system. \n",
    "$$\\textbf{Ax}\\approx \\textbf{z} \\tag{1}$$\n",
    "\n",
    "Where $\\textbf{A}$ is a matrix containing the images in the pre-existing database, $\\textbf{z}$ is the facial image that we want to identify, and $\\textbf{x}$ is a vector of weights representing the composition of $\\textbf{z}$ from the images in $\\textbf{x}$. The database images are represented as the columns of $\\textbf{A}$, which are $n\\times 1$ vectors where $n$ is the number of pixels in the images. $\\textbf{z}$ is thought of as a linear combination of $\\textbf{A}$, with coefficients given by the solution vector. A match can be made to the face in the database that contributes the most to construction of $\\textbf{z}$ (i.e. it has the greatest coefficient).\n",
    "\n",
    "**II. Facial Recognition Algorithm**\n",
    "\n",
    "The identiface algorithm takes as inputs the reduced QR factorization $\\textbf{A}=\\hat{Q}\\hat{R}$ of the image matrix $\\textbf{A}$ and the image vector $\\textbf{z}$ that is to be identified. The QR factorization allows for the problem to be expressed as the triangular linear system\n",
    "$$\n",
    "\\hat{R}x=\\hat{Q^T}\n",
    "\\tag{2}\n",
    "$$\n",
    "Which can be solved with simple back substitution. \n",
    "\n",
    "The data for testing the algorithm is from \"attfaces,\" a collection of black and white images. There are 40 subjects with 10 different poses each for a total of 400 images. Our algorithm uses the first 6 poses of the first 25 subjects as its comparison set, while the remaining photos are used for testing. \n",
    "\n",
    "The solution $x$ to equation (2) contains the coefficients of the column vectors in $\\textbf{A}$, which represent numerically how much of each column (i.e. each image) is present in the test image $\\textbf{z}$. We can compute the \"best match\" image by finding which image is the most represented in $\\textbf{z}$. The algorithm computes a similarity metric to match $\\textbf{z}$ to a \"best match\" subject from the dataset. Since we want to match a subject rather than a specific pose of the subject, we actually sum the coefficients of the images of all 6 poses of each subject. The maximum of the summed coefficients corresponds to the subject chosen by the algorithm. The similarity metric is represented by\n",
    "$$s_J = \\sum_{j=1}^{6} x_j \\quad j\\in J \\tag{3}$$\n",
    "where $s_J$ is the similarity metric of the image $\\textbf{z}$ to the $J^{th}$ subject and $J$ is the set of column indices in $\\textbf{A}$ corresponding to subject $J$.\n",
    "\n",
    "Finally, the algorithm computes a confidence metrix, which represents how good of a match was found. The metric is\n",
    "$$c_J = \\frac{s_J}{\\sum_{i=1}^{25} s_i} \\tag{4}$$\n",
    "For a perfect match, the confidence is 1. This happens when the similarity of a single subject is 1, and all other similarities are 0 (i.e. the image $\\textbf{z}$ is represented entirely by a single subject). The metric accounts for any deviation from this perfect match. Any contribution from a different subject (even a negative contribution, thanks to the absolute value) reduces the confidence. This metric will always produce a number between 0 and 1."
   ]
  },
  {
   "cell_type": "code",
   "execution_count": null,
   "metadata": {},
   "outputs": [],
   "source": []
  }
 ],
 "metadata": {
  "kernelspec": {
   "display_name": "Python 3 (Spyder)",
   "language": "python3",
   "name": "python3"
  },
  "language_info": {
   "codemirror_mode": {
    "name": "ipython",
    "version": 3
   },
   "file_extension": ".py",
   "mimetype": "text/x-python",
   "name": "python",
   "nbconvert_exporter": "python",
   "pygments_lexer": "ipython3",
   "version": "3.8.8"
  }
 },
 "nbformat": 4,
 "nbformat_minor": 4
}
